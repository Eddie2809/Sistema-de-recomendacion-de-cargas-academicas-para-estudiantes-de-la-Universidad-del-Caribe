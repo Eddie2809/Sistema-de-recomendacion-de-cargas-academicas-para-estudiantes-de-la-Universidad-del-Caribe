{
 "cells": [
  {
   "cell_type": "code",
   "execution_count": 4,
   "id": "ddc2b292",
   "metadata": {},
   "outputs": [],
   "source": [
    "import pandas as pd\n",
    "import numpy as np\n",
    "import deap as dp\n",
    "import random\n",
    "from deap import base, creator, tools, gp, algorithms\n",
    "import time\n",
    "import matplotlib.pyplot as plt\n",
    "import PyPDF2 as pdf"
   ]
  },
  {
   "cell_type": "code",
   "execution_count": 5,
   "id": "c8dea4d6",
   "metadata": {},
   "outputs": [],
   "source": [
    "oferta = pd.read_csv('oferta.csv')\n",
    "asignaturas = pd.read_csv('asignaturas.csv')\n",
    "formato_cargas = pd.read_csv('formato_cargas.csv')\n",
    "plan_2016 = pd.read_csv('2016ID.csv')\n",
    "seriaciones = pd.read_csv('../seriacion.csv')"
   ]
  },
  {
   "cell_type": "code",
   "execution_count": 6,
   "id": "965dd531",
   "metadata": {},
   "outputs": [],
   "source": [
    "planes = {\n",
    "    '2016ID': plan_2016\n",
    "}"
   ]
  },
  {
   "cell_type": "markdown",
   "id": "e270f83a",
   "metadata": {},
   "source": [
    "# Definición de funciones útiles"
   ]
  },
  {
   "cell_type": "code",
   "execution_count": 7,
   "id": "9c984358",
   "metadata": {},
   "outputs": [],
   "source": [
    "matriculas = formato_cargas.query('n_matricula > 160000000')['n_matricula'].unique()"
   ]
  },
  {
   "cell_type": "markdown",
   "id": "650e1224",
   "metadata": {},
   "source": [
    "## Función para obtener un Kardex aleatorio"
   ]
  },
  {
   "cell_type": "code",
   "execution_count": 8,
   "id": "0086d824",
   "metadata": {},
   "outputs": [],
   "source": [
    "def plot_fitness(generation_solution_fitness):\n",
    "    fig = plt.figure()\n",
    "    plt.plot(generation_solution_fitness, linewidth=3)\n",
    "    plt.title('Desempeño por generación')\n",
    "    plt.xlabel('Generación')\n",
    "    plt.ylabel('Desempeño')\n",
    "    plt.show()"
   ]
  },
  {
   "cell_type": "code",
   "execution_count": 9,
   "id": "a693ee2c",
   "metadata": {},
   "outputs": [],
   "source": [
    "def obtenerKardex(mat = -1):\n",
    "    if(mat == -1):\n",
    "        mat = np.random.choice(matriculas)\n",
    "    return formato_cargas.query('n_matricula == ' + str(mat)).sort_values('periodo')"
   ]
  },
  {
   "cell_type": "code",
   "execution_count": 10,
   "id": "d9734308",
   "metadata": {},
   "outputs": [],
   "source": [
    "def leerPdfKardex(nombre):\n",
    "    reader = pdf.PdfReader(open('../kardex/' + nombre + '.pdf','rb'))\n",
    "    kardex = ''\n",
    "    for i in range(len(reader.pages)):\n",
    "        kardex += reader.pages[i].extract_text()\n",
    "    kardex = kardex.split('\\n')\n",
    "    \n",
    "    nombre = kardex[3][36:-10].split('/')\n",
    "    nombre = nombre[1][1:] + ' ' + nombre[0][:-1]\n",
    "    matricula = int(kardex[3][-9:])\n",
    "    situacion = kardex[4][:-7]\n",
    "    plan = kardex[4][-6:]\n",
    "\n",
    "    claves = []\n",
    "    periodos = []\n",
    "    calificaciones = []\n",
    "\n",
    "    lineas = kardex[4:-7]\n",
    "    for row in lineas:\n",
    "        palabras = row.split(' ')\n",
    "        if len(palabras) >= 6:\n",
    "            if palabras[0] != 'Plan':\n",
    "                claves.append(palabras[0])\n",
    "                for i in range(len(palabras)):\n",
    "                    if palabras[i][0:2] == '20' and len(palabras[i]) == 6:\n",
    "                        periodos.append(int(palabras[i]))\n",
    "                        calificaciones.append(palabras[i+1])\n",
    "\n",
    "    if len(claves) != len(calificaciones) or len(calificaciones) != len(periodos):\n",
    "        raise Exception('Error en la lectura del archivo PDF\\n' + 'Periodos: ' + str(len(periodos)) + '\\nClaves: ' + str(len(claves)) + '\\nCalificaciones: ' + str(len(calificaciones)))\n",
    "                        \n",
    "    for i in range(len(calificaciones)):\n",
    "        if(calificaciones[i] == 'S/A'):\n",
    "            calificaciones[i] = 10\n",
    "        elif calificaciones[i] == 'N/A':\n",
    "            calificaciones[i] = 0\n",
    "        else:\n",
    "            calificaciones[i] = int(calificaciones[i])    \n",
    "        \n",
    "    kardex = pd.DataFrame({\n",
    "        'clave': claves,\n",
    "        'periodo': periodos,\n",
    "        'promediofinal': calificaciones\n",
    "    })\n",
    "    kardex = kardex.query('periodo < ' + str(periodoActual))\n",
    "    \n",
    "    return nombre,matricula,situacion,plan,kardex"
   ]
  },
  {
   "cell_type": "code",
   "execution_count": 11,
   "id": "ec725b61",
   "metadata": {},
   "outputs": [],
   "source": [
    "def obtenerCreditos(kardex):\n",
    "    claves = kardex.query('promediofinal >= 7')['clave'].unique()\n",
    "    totalCreditos = 0\n",
    "    for clave in claves:\n",
    "        if(clave[0:2] == 'LI' or clave[0:2] == 'TA' or clave[0:2] == 'AD'):\n",
    "            continue\n",
    "        totalCreditos += plan.query('clave == \"' + clave + '\"')['creditos'].values[0]\n",
    "    return totalCreditos"
   ]
  },
  {
   "cell_type": "code",
   "execution_count": 12,
   "id": "64788fdb",
   "metadata": {},
   "outputs": [],
   "source": [
    "def obtenerRecomendacionesUnicas(recomendaciones,umbral):\n",
    "    recomendacionesFinal = []\n",
    "    for rec in recomendaciones:\n",
    "        recomendacionesFinal.append(list(set(rec)))\n",
    "    recomendacionesFinal = list(np.unique(recomendacionesFinal))\n",
    "    recomendacionesFinal.sort(key=lambda x: -obtenerDesempenoPonderado(x))\n",
    "\n",
    "    return recomendacionesFinal"
   ]
  },
  {
   "cell_type": "code",
   "execution_count": 13,
   "id": "b242e2d2",
   "metadata": {},
   "outputs": [],
   "source": [
    "def ordenarRecomendacionesPor(recomendaciones,objetivo):\n",
    "    if objetivo == 'upcc':\n",
    "        recomendaciones.sort(key=lambda x: -UpCC(x))\n",
    "    elif objetivo == 'upmr':\n",
    "        recomendaciones.sort(key=lambda x: -UpMR(x))\n",
    "    elif objetivo == 'upcm':\n",
    "        recomendaciones.sort(key=lambda x: -UpCM(x))\n",
    "    elif objetivo == 'cpdh':\n",
    "        recomendaciones.sort(key=lambda x: CpDH(x))\n",
    "    elif objetivo == 'cpah':\n",
    "        recomendaciones.sort(key=lambda x: CpAH(x))\n",
    "    elif objetivo == 'despon':\n",
    "        recomendaciones.sort(key=lambda x: -obtenerDesempenoPonderado(x))\n",
    "    else:\n",
    "        raise Exception('Objetivo solo puede ser: upcc, upmr, upcm, cpdh, cpah y despon')"
   ]
  },
  {
   "cell_type": "code",
   "execution_count": 14,
   "id": "906c2dab",
   "metadata": {},
   "outputs": [],
   "source": [
    "def verKardex():\n",
    "    print('Matricula: ' + str(kardex.iloc[0]['n_matricula']))\n",
    "    print('Carrera: ' + str(kardex.iloc[0]['carrera']))\n",
    "    print('Creditos: ' + str(obtenerCreditos(kardex))) \n",
    "    print('Materias Reprobadas:')\n",
    "    for clave in obtenerMateriasReprobadas(kardex):\n",
    "        if(clave[0:2] == 'LI' or clave[0:2] == 'TA' or clave[0:2] == 'AD'):\n",
    "            continue\n",
    "        print('\\t' + clave,plan.query('clave == \"' + clave + '\"')['nombre'].values[0])\n",
    "    print('\\n')\n",
    "    periodos = kardex['periodo'].unique()\n",
    "    for per in periodos:\n",
    "        print('Periodo: ' + str(per))\n",
    "        print('Clave\\t\\tPromedio\\tNombre de asignatura')\n",
    "        materias = kardex.query('periodo == ' + str(per))\n",
    "        for i in range(len(materias)):\n",
    "            if(materias.iloc[i]['promediofinal'] < 7):\n",
    "                print('* ' + materias.iloc[i]['clave'] + '\\t' + str(materias.iloc[i]['promediofinal']) + '\\t\\t' + materias.iloc[i]['asignatura'])\n",
    "            else:\n",
    "                print(materias.iloc[i]['clave'] + '\\t\\t' + str(materias.iloc[i]['promediofinal']) + '\\t\\t' + materias.iloc[i]['asignatura'])\n",
    "        print('\\n')\n",
    "    "
   ]
  },
  {
   "cell_type": "markdown",
   "id": "6bdec6b6",
   "metadata": {},
   "source": [
    "## Obtención de oferta útil"
   ]
  },
  {
   "cell_type": "code",
   "execution_count": 15,
   "id": "1c9e8089",
   "metadata": {},
   "outputs": [],
   "source": [
    "def materiaHaSidoAprobada(kardex,clave):\n",
    "    if len(kardex.query('clave == \"' + clave + '\" and promediofinal >= 7')) == 0:\n",
    "        return False\n",
    "    else:\n",
    "        return True"
   ]
  },
  {
   "cell_type": "code",
   "execution_count": 16,
   "id": "53bcefea",
   "metadata": {},
   "outputs": [],
   "source": [
    "def respetaSeriacion(clave,kardex):\n",
    "    if len(seriaciones.query('ser2 == \"' + clave + '\"')) == 0:\n",
    "        return True\n",
    "    else:\n",
    "        #Se guarda en necesarias la lista de asignaturas necesarias para llevar la asignura \"clave\"\n",
    "        necesarias = seriaciones.query('ser2 == \"' + clave + '\"')['ser1'].unique()\n",
    "        \n",
    "        #Se recorre la lista para comprobar si el estudiante ya pasó las asignaturas necesarias, en caso de que le falte \n",
    "        #al menos una, entonces no se respeta la seriación.\n",
    "        for necesaria in necesarias:\n",
    "            if not(materiaHaSidoAprobada(kardex,necesaria)):\n",
    "                return False\n",
    "        return True"
   ]
  },
  {
   "cell_type": "code",
   "execution_count": 276,
   "id": "636cba1b",
   "metadata": {},
   "outputs": [],
   "source": [
    "#Filtra las materias que no cumplen las restricciones 1 y 2\n",
    "\n",
    "def obtenerOfertaUtil(kardex,oferta):\n",
    "    dias = ['Lunes','Martes','Miercoles','Jueves','Viernes']\n",
    "    \n",
    "    #Se eliminan las materias en la oferta que ya han sido aprobadas\n",
    "    aprobadas = kardex.query('promediofinal >= 7')['clave'].unique()\n",
    "    for clave in aprobadas:\n",
    "        oferta = oferta.query('clave != \"' + clave + '\"')\n",
    "        \n",
    "    #Se eliminan las materias que el alumno no puede llevar por la seriación\n",
    "    ofertaUtilIndex = set(oferta.index.values)\n",
    "    for idx in oferta.index:\n",
    "        if not(respetaSeriacion(oferta.loc[idx]['clave'],kardex)):\n",
    "            ofertaUtilIndex.remove(idx)\n",
    "            \n",
    "    #Se eliminan prácticas profesionales y proyecto terminal\n",
    "    for i in range(len(oferta['clave'].values)):\n",
    "        clave = oferta['clave'].values[i]\n",
    "        if clave[0:3] == 'PID' or clave == 'IT0427':\n",
    "            try:\n",
    "                ofertaUtilIndex.remove(oferta.index.values[i])\n",
    "            except:\n",
    "                continue\n",
    "    ofertaUtil = oferta.loc[list(ofertaUtilIndex)]\n",
    "    \n",
    "    ofertaUtil = pd.merge(ofertaUtil,plan,how='left',on='clave')[['clave','ciclos','Nombre','Maestro','Lunes','Martes','Miercoles','Jueves','Viernes','tipo']]\n",
    "    \n",
    "    #Se eliminan materias de elección libre de primer y segundo ciclo\n",
    "    if(materiaHaSidoAprobada(kardex,'IL0102')):\n",
    "        ofertaUtil = ofertaUtil.query('clave != \"ID0160\"')\n",
    "    if(materiaHaSidoAprobada(kardex,'ID0160')):\n",
    "        ofertaUtil = ofertaUtil.query('clave != \"IL0102\"')\n",
    "    \n",
    "    if(materiaHaSidoAprobada(kardex,'IT0103')):\n",
    "        ofertaUtil = ofertaUtil.query('clave != \"ID0161\"')\n",
    "    if(materiaHaSidoAprobada(kardex,'ID0161')):\n",
    "        ofertaUtil = ofertaUtil.query('clave != \"IT0103\"')\n",
    "        \n",
    "    if(materiaHaSidoAprobada(kardex,'ID0264')):\n",
    "        ofertaUtil = ofertaUtil.query('clave != \"ID0262\"')\n",
    "    if(materiaHaSidoAprobada(kardex,'ID0262')):\n",
    "        ofertaUtil = ofertaUtil.query('clave != \"ID0264\"')\n",
    "        \n",
    "    if(materiaHaSidoAprobada(kardex,'ID0263')):\n",
    "        ofertaUtil = ofertaUtil.query('clave != \"ID0265\"')\n",
    "    if(materiaHaSidoAprobada(kardex,'ID0265')):\n",
    "        ofertaUtil = ofertaUtil.query('clave != \"ID0263\"')\n",
    "        \n",
    "    #Si la disponibilidad de horario es una restricción, entonces elimina las materias que violen la restricción\n",
    "    if(disponibilidadComoRestriccion):\n",
    "        indices = set(ofertaUtil.index)\n",
    "        indicesUtiles = indices.copy()\n",
    "        for dia in dias:\n",
    "            for i in indices:\n",
    "                if ofertaUtil.loc[i][dia] == '-':\n",
    "                    continue\n",
    "                \n",
    "                horaInicio = int(ofertaUtil.loc[i][dia][0:2])\n",
    "                horaFin = int(ofertaUtil.loc[i][dia][6:8])\n",
    "                \n",
    "                for hora in range(horaInicio,horaFin):\n",
    "                    if not(disponibilidad.query('hora == ' + str(hora))[dia].values[0]):\n",
    "                        if i in indicesUtiles:\n",
    "                            indicesUtiles.remove(i)\n",
    "        indicesUtiles = list(indicesUtiles)\n",
    "        ofertaUtil = ofertaUtil.loc[indicesUtiles]\n",
    "    \n",
    "    return ofertaUtil"
   ]
  },
  {
   "cell_type": "markdown",
   "id": "7c1c3848",
   "metadata": {},
   "source": [
    "## Generación de carga aleatoria válida"
   ]
  },
  {
   "cell_type": "markdown",
   "id": "a66d78f1",
   "metadata": {},
   "source": [
    "En esta sección creamos las funciones \"generarCargaValida\" la cual retorna una string de bits representando una carga académica con base a la oferta útil. También se crea la función \"obtenerDatosCarga\" que nos ayuda a obtener los datos de una carga académica con base a la oferta útil y a una string de bits que denominamos \"bits de carga\""
   ]
  },
  {
   "cell_type": "code",
   "execution_count": 18,
   "id": "5e238cf9",
   "metadata": {},
   "outputs": [],
   "source": [
    "def generarSolucionAleatoria(ofertaUtil):\n",
    "    solucion = [-1] * 9\n",
    "    for i in range(9):\n",
    "        gen = np.random.randint(-1,len(ofertaUtil))\n",
    "        if gen == -1:\n",
    "            solucion[i] = -1\n",
    "        else:\n",
    "            solucion[i] = ofertaUtil.index[gen]\n",
    "    return solucion"
   ]
  },
  {
   "cell_type": "code",
   "execution_count": 19,
   "id": "136e15f5",
   "metadata": {},
   "outputs": [],
   "source": [
    "def obtenerDatosCarga(solucion):\n",
    "    solucionU = np.array(solucion)\n",
    "    solucionU = np.unique(solucionU)\n",
    "    solucionU = solucionU[solucionU >= 0]\n",
    "    \n",
    "    return ofertaUtil.loc[solucionU]"
   ]
  },
  {
   "cell_type": "code",
   "execution_count": 20,
   "id": "d49e48ef",
   "metadata": {},
   "outputs": [],
   "source": [
    "def comprobarTraslapacion(solucion,ofertaUtil):\n",
    "    datosCarga = obtenerDatosCarga(solucion)\n",
    "    dias = ['Lunes','Martes','Miercoles','Jueves','Viernes']\n",
    "    \n",
    "    for dia in dias:\n",
    "        horarioDia = datosCarga.sort_values(dia)[dia].values\n",
    "        for i in range(len(horarioDia)):\n",
    "            if horarioDia[i] == '-':\n",
    "                continue\n",
    "            horaInicioI = int(horarioDia[i][0:2])\n",
    "            horaFinI = int(horarioDia[i][6:8])\n",
    "            \n",
    "            for j in range(i+1,len(horarioDia)):\n",
    "                horaInicioJ = int(horarioDia[j][0:2])\n",
    "                horaFinJ = int(horarioDia[j][6:8])\n",
    "                \n",
    "                if not(horaFinJ  <= horaInicioI or horaInicioJ >= horaFinI):\n",
    "                    return True\n",
    "    return False"
   ]
  },
  {
   "cell_type": "code",
   "execution_count": 21,
   "id": "584ec5ea",
   "metadata": {},
   "outputs": [],
   "source": [
    "def esValido(solucion,ofertaUtil):\n",
    "    #Si se repite una materia es inválido\n",
    "    datosCarga = obtenerDatosCarga(solucion)\n",
    "    if len(datosCarga['clave'].unique()) < len(datosCarga):\n",
    "        return False\n",
    "    #Si se traslapan dos materias es inválido\n",
    "    if comprobarTraslapacion(solucion,ofertaUtil):\n",
    "        return False\n",
    "    #Si son menos de 3 materias es inválido\n",
    "    solucionSet = set(solucion)\n",
    "    if -1 in solucionSet:\n",
    "        solucionSet.remove(-1)\n",
    "    if(len(solucionSet)<3):\n",
    "        return False\n",
    "    \n",
    "    #Si se llevan dos materias de elección libre del ciclo 1 y 2\n",
    "    clavesSet = set(datosCarga['clave'])\n",
    "    \n",
    "    if 'IL0102' in clavesSet and 'ID0160' in clavesSet:\n",
    "        return False\n",
    "    if 'IT0103' in clavesSet and 'ID0161' in clavesSet:\n",
    "        return False\n",
    "    if 'ID0264' in clavesSet and 'ID0262' in clavesSet:\n",
    "        return False\n",
    "    if 'ID0263' in clavesSet and 'ID0265' in clavesSet:\n",
    "        return False\n",
    "    \n",
    "    return True"
   ]
  },
  {
   "cell_type": "code",
   "execution_count": 22,
   "id": "b37d67d9",
   "metadata": {},
   "outputs": [],
   "source": [
    "def generarSolucionValida(ofertaUtil):\n",
    "    bitsDeCarga = generarSolucionAleatoria(ofertaUtil)\n",
    "    \n",
    "    while not(esValido(bitsDeCarga,ofertaUtil)):\n",
    "        bitsDeCarga = generarSolucionAleatoria(ofertaUtil)\n",
    "    \n",
    "    return bitsDeCarga"
   ]
  },
  {
   "cell_type": "code",
   "execution_count": 23,
   "id": "2dda725e",
   "metadata": {},
   "outputs": [],
   "source": [
    "def obtenerHorario(carga):\n",
    "    primeraHoraMinima = 24\n",
    "    ultimaHoraMaxima = 0\n",
    "    datosCarga = obtenerDatosCarga(carga)\n",
    "    horario = pd.DataFrame({\n",
    "        'Hora': ['7:00-8:00','8:00-9:00','9:00-10:00','10:00-11:00','11:00-12:00','12:00-13:00','13:00-14:00','14:00-15:00','15:00-16:00','16:00-17:00','17:00-18:00','18:00-19:00','19:00-20:00','20:00-21:00','21:00-22:00'],\n",
    "        'Lunes': ['-','-','-','-','-','-','-','-','-','-','-','-','-','-','-'],\n",
    "        'Martes': ['-','-','-','-','-','-','-','-','-','-','-','-','-','-','-'],\n",
    "        'Miercoles': ['-','-','-','-','-','-','-','-','-','-','-','-','-','-','-'],\n",
    "        'Jueves': ['-','-','-','-','-','-','-','-','-','-','-','-','-','-','-'],\n",
    "        'Viernes': ['-','-','-','-','-','-','-','-','-','-','-','-','-','-','-'],\n",
    "    })\n",
    "    dias = ['Lunes','Martes','Miercoles','Jueves','Viernes']\n",
    "    for dia in dias:\n",
    "        for i in range(len(datosCarga)):\n",
    "            if datosCarga[dia].iloc[i] == '-':\n",
    "                continue\n",
    "\n",
    "            horaInicio = int(datosCarga.iloc[i][dia][0:2])\n",
    "            horaFin = int(datosCarga.iloc[i][dia][6:8])\n",
    "            \n",
    "            primeraHoraMinima = min(primeraHoraMinima,horaInicio)\n",
    "            ultimaHoraMaxima = max(ultimaHoraMaxima,horaFin)\n",
    "            \n",
    "            nombre = datosCarga.iloc[i]['Nombre']\n",
    "\n",
    "            for hora in range(horaInicio,horaFin):\n",
    "                horario.loc[hora-7,dia]=nombre\n",
    "    return horario[(primeraHoraMinima-7):(ultimaHoraMaxima-6)]"
   ]
  },
  {
   "cell_type": "markdown",
   "id": "ce892328",
   "metadata": {},
   "source": [
    "# Definición de funciones de utilidad y de costo"
   ]
  },
  {
   "cell_type": "markdown",
   "id": "3a651fdf",
   "metadata": {},
   "source": [
    "## Utilidad de carga académica con base en cantidad ideal de materias"
   ]
  },
  {
   "cell_type": "code",
   "execution_count": 24,
   "id": "658cf16b",
   "metadata": {},
   "outputs": [],
   "source": [
    "def UpCM(solucion):\n",
    "    if(cantidadMateriasIdeal == 0):\n",
    "        return 1\n",
    "    \n",
    "    diferenciaMaxima = max(cantidadMateriasIdeal-3,9-cantidadMateriasIdeal)\n",
    "    solucionSet = set(solucion)\n",
    "    \n",
    "    if -1 in solucionSet:\n",
    "        solucionSet.remove(-1)\n",
    "        \n",
    "    tamanoCarga = len(solucionSet)\n",
    "    separacion = abs(tamanoCarga-cantidadMateriasIdeal)\n",
    "    \n",
    "    return 1 - (separacion / diferenciaMaxima)"
   ]
  },
  {
   "cell_type": "markdown",
   "id": "3b187491",
   "metadata": {},
   "source": [
    "## Utilidad de carga académica con base en las materias reprobadas"
   ]
  },
  {
   "cell_type": "code",
   "execution_count": 25,
   "id": "65b92edf",
   "metadata": {},
   "outputs": [],
   "source": [
    "def obtenerMateriasReprobadas(kardex):\n",
    "    materiasReprobadas = kardex.query('promediofinal < 7')['clave'].unique()\n",
    "    materiasReprobadasFinal = []\n",
    "    for clave in materiasReprobadas:\n",
    "        aprobado = len(kardex.query('clave == \"' + clave + '\" and promediofinal >= 7'))\n",
    "        if aprobado == 0 and clave[0:2] != 'LI':\n",
    "            materiasReprobadasFinal.append(clave)\n",
    "    return materiasReprobadasFinal"
   ]
  },
  {
   "cell_type": "code",
   "execution_count": 26,
   "id": "3a2e830e",
   "metadata": {},
   "outputs": [],
   "source": [
    "def UpMR(solucion):\n",
    "    materiasReprobadas = obtenerMateriasReprobadas(kardex)\n",
    "    materiasReprobadasOfertadas = 0\n",
    "    if len(materiasReprobadas) == 0:\n",
    "        return 1\n",
    "    datosCarga = obtenerDatosCarga(solucion)\n",
    "    materiasReprobadasCargadas = 0\n",
    "    \n",
    "    for clave in materiasReprobadas:\n",
    "        cargado = len(datosCarga.query('clave == \"' + clave + '\"'))\n",
    "        ofertado = len(ofertaUtil.query('clave == \"' + clave + '\"'))\n",
    "        if cargado >= 1:\n",
    "            materiasReprobadasCargadas += 1\n",
    "        if ofertado >= 1:\n",
    "            materiasReprobadasOfertadas += 1\n",
    "        \n",
    "    if materiasReprobadasOfertadas == 0:\n",
    "        return 1\n",
    "    \n",
    "    #Normalización\n",
    "    utilidad = (materiasReprobadasCargadas)/(materiasReprobadasOfertadas)\n",
    "    return utilidad"
   ]
  },
  {
   "cell_type": "markdown",
   "id": "3385911a",
   "metadata": {},
   "source": [
    "## Utilidad de carga académica con base en el cierre de ciclos"
   ]
  },
  {
   "cell_type": "code",
   "execution_count": 27,
   "id": "b311b785",
   "metadata": {},
   "outputs": [],
   "source": [
    "def UpCC(solucion):\n",
    "    base = 3\n",
    "    utilidad = [base**3,base**2,base,1]\n",
    "    utilidadTotal = 0\n",
    "    \n",
    "    menorCiclo = min(ofertaUtil['ciclos']) - 1\n",
    "    \n",
    "    datosCarga = obtenerDatosCarga(solucion)\n",
    "    \n",
    "    claves = datosCarga['clave'].unique()\n",
    "    for i in range(len(claves)):\n",
    "        if claves[i][0:2] == 'AD'or claves[i][0:2] == 'TA' or claves[i][0:2] == 'LI' or claves[i][0:2] == 'PI':\n",
    "            continue\n",
    "            \n",
    "        ciclo = int(plan.query('clave == \"' + claves[i] + '\"')['ciclos']) - 1\n",
    "        utilidadTotal += utilidad[ciclo - menorCiclo]\n",
    "    \n",
    "    utilidadMaxima = 0\n",
    "    cantidadMateriasCiclo1 = len(ofertaUtil.query('ciclos == ' + str(menorCiclo+1))['clave'].unique())\n",
    "    cantidadMateriasCiclo2 = len(ofertaUtil.query('ciclos == ' + str(menorCiclo+2))['clave'].unique())\n",
    "    cantidadMateriasCiclo3 = len(ofertaUtil.query('ciclos == ' + str(menorCiclo+3))['clave'].unique())\n",
    "    cantidadMateriasCiclo4 = len(ofertaUtil.query('ciclos == ' + str(menorCiclo+4))['clave'].unique())\n",
    "    cantidadMateriasMaxima = 9\n",
    "    \n",
    "    m1 = m2 = m3 = m4 = 0\n",
    "    \n",
    "    if (cantidadMateriasMaxima - cantidadMateriasCiclo1) >= 0:\n",
    "        m1 = cantidadMateriasCiclo1\n",
    "        cantidadMateriasMaxima -= cantidadMateriasCiclo1\n",
    "    else:\n",
    "        m1 = 9\n",
    "        cantidadMateriasMaxima = 0\n",
    "    if (cantidadMateriasMaxima - cantidadMateriasCiclo2) >= 0:\n",
    "        m2 = cantidadMateriasCiclo2\n",
    "        cantidadMateriasMaxima -= cantidadMateriasCiclo2\n",
    "    elif cantidadMateriasMaxima > 0:\n",
    "        m2 = cantidadMateriasMaxima\n",
    "        cantidadMateriasMaxima = 0\n",
    "    if (cantidadMateriasMaxima - cantidadMateriasCiclo3) >= 0:\n",
    "        m3 = cantidadMateriasCiclo3\n",
    "        cantidadMateriasMaxima -= cantidadMateriasCiclo3\n",
    "    elif cantidadMateriasMaxima > 0:\n",
    "        m3 = cantidadMateriasMaxima\n",
    "        cantidadMateriasMaxima = 0\n",
    "    if (cantidadMateriasMaxima - cantidadMateriasCiclo4) >= 0:\n",
    "        m4 = cantidadMateriasCiclo4\n",
    "        cantidadMateriasMaxima -= cantidadMateriasCiclo4\n",
    "    elif cantidadMateriasMaxima > 0:\n",
    "        m4 = cantidadMateriasMaxima\n",
    "        cantidadMateriasMaxima = 0\n",
    "        \n",
    "    \n",
    "    utilidadMaxima = m1*utilidad[0] + m2*utilidad[1] + m3*utilidad[2] + m4*utilidad[3]\n",
    " \n",
    "    #Normalización\n",
    "    utilidadNorm = (utilidadTotal)/(utilidadMaxima)\n",
    "    return utilidadNorm"
   ]
  },
  {
   "cell_type": "markdown",
   "id": "1316cc72",
   "metadata": {},
   "source": [
    "## Costo por amplitud de horario"
   ]
  },
  {
   "cell_type": "code",
   "execution_count": 28,
   "id": "2c8a9845",
   "metadata": {},
   "outputs": [],
   "source": [
    "def CpAH(solucion):\n",
    "    amplitudAceptable = 7\n",
    "    \n",
    "    datosCarga = obtenerDatosCarga(solucion)\n",
    "    dias = ['Lunes','Martes','Miercoles','Jueves','Viernes']\n",
    "    horaMin = 21\n",
    "    horaMax = 7\n",
    "    \n",
    "    for dia in dias:\n",
    "        for hora in datosCarga[dia]:\n",
    "            if hora == '-':\n",
    "                continue\n",
    "            horaMin = min(int(hora[0:2]),horaMin)\n",
    "            horaMax = max(int(hora[6:8]),horaMax)\n",
    "            \n",
    "    amplitud = (horaMax - horaMin)\n",
    "    if amplitud <= amplitudAceptable:\n",
    "        return 0\n",
    "    amplitud -= amplitudAceptable\n",
    "    \n",
    "    return amplitud / (15 - amplitudAceptable)"
   ]
  },
  {
   "cell_type": "markdown",
   "id": "3055acdc",
   "metadata": {},
   "source": [
    "## Costo de carga académica con base en las horas libres"
   ]
  },
  {
   "cell_type": "markdown",
   "id": "8e3c3124",
   "metadata": {},
   "source": [
    "#### NOTA: Tomar en cuenta las horas libres por día"
   ]
  },
  {
   "cell_type": "code",
   "execution_count": 29,
   "id": "de37cf1b",
   "metadata": {},
   "outputs": [],
   "source": [
    "def CpHL(solucion,ofertaUtil):\n",
    "    dias = ['Lunes','Martes','Miercoles','Jueves','Viernes']\n",
    "    costoTotal = 0\n",
    "    hlMax = 0\n",
    "\n",
    "    datosCarga = obtenerDatosCarga(solucion)\n",
    "\n",
    "    for dia in dias:\n",
    "        datosCarga = datosCarga.sort_values(dia)\n",
    "        if datosCarga[dia].iloc[len(datosCarga)-2] == '-':\n",
    "            continue\n",
    "\n",
    "        ultimaHoraFin = 0\n",
    "        for i in range(len(datosCarga)):\n",
    "            if datosCarga.iloc[i][dia] == '-':\n",
    "                continue\n",
    "            if ultimaHoraFin == 0:\n",
    "                ultimaHoraFin = int(datosCarga.iloc[i][dia][6:8])\n",
    "                primeraHoraDia = int(datosCarga.iloc[i][dia][0:2])\n",
    "                continue\n",
    "            horaInicio = int(datosCarga.iloc[i][dia][0:2])\n",
    "            costoTotal += (horaInicio - ultimaHoraFin)\n",
    "            ultimaHoraFin = int(datosCarga.iloc[i][dia][6:8])\n",
    "        hlMax += (ultimaHoraFin - primeraHoraDia - 2)\n",
    "\n",
    "    if hlMax == 0:\n",
    "        return 0\n",
    "    #Normalización\n",
    "    costo = (costoTotal)/(hlMax)\n",
    "    return costo"
   ]
  },
  {
   "cell_type": "markdown",
   "id": "25015bdb",
   "metadata": {},
   "source": [
    "## Costo de carga académica con base en la disponibilidad de horario del estudiante"
   ]
  },
  {
   "cell_type": "markdown",
   "id": "73d999ec",
   "metadata": {},
   "source": [
    "Creamos 4 casos diferentes donde los estudiantes trabajan. Guardamos el horario de ocupación de los estudiantes en un dataframe por cada estudiante."
   ]
  },
  {
   "cell_type": "code",
   "execution_count": 30,
   "id": "709995e9",
   "metadata": {},
   "outputs": [],
   "source": [
    "# El estudiante trabaja por las mañanas tiempo completo\n",
    "disp_est_1 = pd.DataFrame({\n",
    "    \"hora\": [7,8,9,10,11,12,13,14,15,16,17,18,19,20,21],\n",
    "    \"Lunes\": [False,False,False,False,False,False,False,False,False,True,True,True,True,True,True],\n",
    "    \"Martes\": [False,False,False,False,False,False,False,False,False,True,True,True,True,True,True],\n",
    "    \"Miercoles\": [False,False,False,False,False,False,False,False,False,True,True,True,True,True,True],\n",
    "    \"Jueves\": [False,False,False,False,False,False,False,False,False,True,True,True,True,True,True],\n",
    "    \"Viernes\": [False,False,False,False,False,False,False,False,False,True,True,True,True,True,True],\n",
    "})\n",
    "\n",
    "\n",
    "# El estudiante trabaja por las tardes tiempo completo\n",
    "disp_est_2 = pd.DataFrame({\n",
    "    \"hora\": [7,8,9,10,11,12,13,14,15,16,17,18,19,20,21],\n",
    "    \"Lunes\": [True,True,True,True,True,True,False,False,False,False,False,False,False,False,False],\n",
    "    \"Martes\": [True,True,True,True,True,True,False,False,False,False,False,False,False,False,False],\n",
    "    \"Miercoles\": [True,True,True,True,True,True,False,False,False,False,False,False,False,False,False],\n",
    "    \"Jueves\": [True,True,True,True,True,True,False,False,False,False,False,False,False,False,False],\n",
    "    \"Viernes\": [True,True,True,True,True,True,False,False,False,False,False,False,False,False,False],\n",
    "})\n",
    "\n",
    "# El estudiante trabaja por las mañanas medio tiempo\n",
    "disp_est_3 = pd.DataFrame({\n",
    "    \"hora\": [7,8,9,10,11,12,13,14,15,16,17,18,19,20,21],\n",
    "    \"Lunes\": [True,False,False,False,False,False,True,True,True,True,True,True,True,False,False],\n",
    "    \"Martes\": [True,False,False,False,False,False,True,True,True,True,True,True,True,False,False],\n",
    "    \"Miercoles\": [True,False,False,False,False,False,True,True,True,True,True,True,True,False,False],\n",
    "    \"Jueves\": [True,False,False,False,False,False,True,True,True,True,True,True,True,False,False],\n",
    "    \"Viernes\": [True,False,False,False,False,False,True,True,True,True,True,True,True,False,False],\n",
    "})\n",
    "# El estudiante trabaja por las tardes medio tiempo\n",
    "disp_est_4 = pd.DataFrame({\n",
    "    \"hora\": [7,8,9,10,11,12,13,14,15,16,17,18,19,20,21],\n",
    "    \"Lunes\": [True,True,True,True,True,False,False,False,False,False,True,True,True,True,True],\n",
    "    \"Martes\": [True,True,True,True,True,False,False,False,False,False,True,True,True,True,True],\n",
    "    \"Miercoles\": [True,True,True,True,True,False,False,False,False,False,True,True,True,True,True],\n",
    "    \"Jueves\": [True,True,True,True,True,False,False,False,False,False,True,True,True,True,True],\n",
    "    \"Viernes\": [True,True,True,True,True,False,False,False,False,False,True,True,True,True,True],\n",
    "})\n",
    "disp_est_5 = pd.DataFrame({\n",
    "    \"hora\": [7,8,9,10,11,12,13,14,15,16,17,18,19,20,21],\n",
    "    \"Lunes\": [True,True,True,True,True,True,True,True,True,True,True,True,True,True,True],\n",
    "    \"Martes\": [True,True,True,True,True,True,True,True,True,True,True,True,True,True,True],\n",
    "    \"Miercoles\": [True,True,True,True,True,True,True,True,True,True,True,True,True,True,True],\n",
    "    \"Jueves\": [True,True,True,True,True,True,True,True,True,True,True,True,True,True,True],\n",
    "    \"Viernes\": [True,True,True,True,True,True,True,True,True,True,True,True,True,True,True],\n",
    "})"
   ]
  },
  {
   "cell_type": "code",
   "execution_count": 31,
   "id": "7137d3f9",
   "metadata": {
    "scrolled": false
   },
   "outputs": [],
   "source": [
    "disponibilidadArr = [disp_est_1,disp_est_2,disp_est_3,disp_est_4,disp_est_5]"
   ]
  },
  {
   "cell_type": "code",
   "execution_count": 32,
   "id": "7e1f73fd",
   "metadata": {},
   "outputs": [],
   "source": [
    "def CpDH(solucion):\n",
    "    disponibilidadTotal = sum(disponibilidad['Lunes']) + sum(disponibilidad['Martes']) + sum(disponibilidad['Miercoles']) + sum(disponibilidad['Jueves']) + sum(disponibilidad['Viernes'])\n",
    "    if disponibilidadTotal == 75:\n",
    "        return 0\n",
    "    \n",
    "    dias = ['Lunes','Martes','Miercoles','Jueves','Viernes']\n",
    "    datosCarga = obtenerDatosCarga(solucion)\n",
    "    costoTotal = 0\n",
    "\n",
    "    for dia in dias:\n",
    "        for i in range(len(datosCarga)):\n",
    "            if datosCarga[dia].iloc[i] == '-':\n",
    "                continue\n",
    "\n",
    "            horaInicio = int(datosCarga.iloc[i][dia][0:2])\n",
    "            horaFin = int(datosCarga.iloc[i][dia][6:8])\n",
    "\n",
    "            for hora in range(horaInicio,horaFin):\n",
    "                if not(disponibilidad.query('hora == ' + str(hora))[dia].values[0]):\n",
    "                    costoTotal += 1\n",
    "                    \n",
    "    #Normalización\n",
    "    costo = (costoTotal)/(75 - disponibilidadTotal)\n",
    "    return costo"
   ]
  },
  {
   "cell_type": "markdown",
   "id": "16e07217",
   "metadata": {},
   "source": [
    "# Definición de la función de desempeño"
   ]
  },
  {
   "cell_type": "code",
   "execution_count": 33,
   "id": "b8466a64",
   "metadata": {},
   "outputs": [],
   "source": [
    "def obtenerDesempenoPonderado(solucion):\n",
    "    if not(esValido(solucion,ofertaUtil)):\n",
    "        return 0\n",
    "    \n",
    "    upcc = UpCC(solucion)\n",
    "    upmr = UpMR(solucion)\n",
    "    upcm = UpCM(solucion)\n",
    "    cpdh = CpDH(solucion)\n",
    "    cpah = CpAH(solucion)\n",
    "    \n",
    "    utilidades = {\n",
    "        \"upcc\": (upcc * pesos[\"upcc\"]),\n",
    "        \"upmr\": (upmr * pesos[\"upmr\"]),\n",
    "        \"upcm\": (upcm * pesos[\"upcm\"]),\n",
    "        \"cpdh\": pesos[\"cpdh\"] - (cpdh * pesos[\"cpdh\"]),\n",
    "        \"cpah\": pesos[\"cpah\"] - (cpah * pesos[\"cpah\"]),\n",
    "    }\n",
    "    \n",
    "    return sum(utilidades.values())"
   ]
  },
  {
   "cell_type": "code",
   "execution_count": 34,
   "id": "e5fcd4ce",
   "metadata": {},
   "outputs": [],
   "source": [
    "def obtenerDesempeno(solucion):\n",
    "    if not(esValido(solucion,ofertaUtil)):\n",
    "        return 0,0,0,1,1\n",
    "    \n",
    "    upcc = UpCC(solucion)\n",
    "    upmr = UpMR(solucion)\n",
    "    upcm = UpCM(solucion)\n",
    "    cpdh = CpDH(solucion)\n",
    "    cpah = CpAH(solucion)\n",
    "    \n",
    "    return upcc,upmr,upcm,cpdh,cpah,"
   ]
  },
  {
   "cell_type": "code",
   "execution_count": 35,
   "id": "36164559",
   "metadata": {},
   "outputs": [],
   "source": [
    "def evaluarSolucion(solucion):\n",
    "    desempeno = obtenerDesempeno(solucion)\n",
    "    if(desempeno == 0):\n",
    "        print('Solución no válida')\n",
    "        return\n",
    "    \n",
    "    upcc = UpCC(solucion)\n",
    "    upmr = UpMR(solucion)\n",
    "    upcm = UpCM(solucion)\n",
    "    cpdh = CpDH(solucion)\n",
    "    cpah = CpAH(solucion)\n",
    "    \n",
    "    print(\"La carga evaluada tiene:\")\n",
    "    print(\"\\t\" + str(round(100*upcc,2)) + \"% de utilidad por las materias de primeros ciclos llevadas.\")\n",
    "    print(\"\\t\" + str(round(100*upmr,2)) + \"% del total de las materias reprobadas del estudiante.\") \n",
    "    print(\"\\t\" + str(round(100*upcm,2)) + \"% de utilidad por cantidad ideal de materias del estudiante.\") \n",
    "    print(\"\\t\" + str(round(100*cpdh,2)) + \"% de costo por sobreposición con las horas donde el estudiante no está disponible.\")\n",
    "    print(\"\\t\" + str(round(100*cpah,2)) + \"% de costo por el total de amplitud de horario.\")"
   ]
  },
  {
   "cell_type": "code",
   "execution_count": 36,
   "id": "600603e9",
   "metadata": {},
   "outputs": [],
   "source": [
    "def on_generation(ga_instance):\n",
    "    print(\"Generación: \" + str(ga_instance.generations_completed))"
   ]
  },
  {
   "cell_type": "code",
   "execution_count": 37,
   "id": "e71b169a",
   "metadata": {},
   "outputs": [],
   "source": [
    "def obtenerClase():\n",
    "    gen = np.random.randint(-1,len(ofertaUtil))\n",
    "    clase = -1 if gen == -1 else ofertaUtil.index[gen]\n",
    "    return clase"
   ]
  },
  {
   "cell_type": "code",
   "execution_count": 38,
   "id": "3b767590",
   "metadata": {},
   "outputs": [],
   "source": [
    "def mutacionUniforme(solucion,prob):\n",
    "    solucion = solucion.copy()\n",
    "    for i in range(len(solucion)):\n",
    "        if random.random() < prob:\n",
    "            solucion[i] = toolbox.attr_int()\n",
    "    return dp.creator.Individual(solucion),"
   ]
  },
  {
   "cell_type": "code",
   "execution_count": 39,
   "id": "285cb0cb",
   "metadata": {},
   "outputs": [],
   "source": [
    "def factorial(p):\n",
    "    res = 1\n",
    "    \n",
    "    while p > 0:\n",
    "        res *= p\n",
    "        p -= 1\n",
    "    \n",
    "    return res"
   ]
  },
  {
   "cell_type": "markdown",
   "id": "96c03d9d",
   "metadata": {},
   "source": [
    "# DEAP"
   ]
  },
  {
   "cell_type": "code",
   "execution_count": 40,
   "id": "567e539a",
   "metadata": {},
   "outputs": [],
   "source": [
    "pesos = {\n",
    "    \"upcc\": 2,    #Utilidad por cerrar ciclos\n",
    "    \"upmr\": 1,    #Utilidad por materias reprobadas\n",
    "    \"upcm\": 1,    #Utilidad por cantidad ideal de materias\n",
    "    \"cpdh\": 2.5,  #Costo por disponibilidad de horario\n",
    "    \"cpah\": 1.5,  #Costo por amplitud de horario\n",
    "    \"cphl\": 1     #Costo por horas libres (no se está utilizando actualmente)\n",
    "}"
   ]
  },
  {
   "cell_type": "code",
   "execution_count": 41,
   "id": "9e5e1ea9",
   "metadata": {},
   "outputs": [],
   "source": [
    "#creator.create(\"FitnessMin\", base.Fitness, weights=(pesos['upcc'],pesos['upmr'],pesos['upcm'],-pesos['cpdh'],-pesos['cpah']))\n",
    "creator.create(\"FitnessMin\", base.Fitness, weights=(1,1,1,-1,-1))\n",
    "creator.create(\"Individual\", list, fitness=creator.FitnessMin)"
   ]
  },
  {
   "cell_type": "code",
   "execution_count": 42,
   "id": "34edb17f",
   "metadata": {},
   "outputs": [],
   "source": [
    "toolbox = base.Toolbox()\n",
    "toolbox.register(\"attr_int\", obtenerClase)\n",
    "toolbox.register(\"individual\", tools.initRepeat, creator.Individual,\n",
    "                 toolbox.attr_int, n=9)\n",
    "toolbox.register(\"population\", tools.initRepeat, list, toolbox.individual)\n",
    "\n",
    "toolbox.register(\"evaluate\", obtenerDesempeno)\n",
    "toolbox.register(\"mate\", tools.cxUniform,indpb=0.5)\n",
    "toolbox.register(\"mutate\", mutacionUniforme,prob=0.15)"
   ]
  },
  {
   "cell_type": "code",
   "execution_count": 43,
   "id": "7190b75b",
   "metadata": {},
   "outputs": [],
   "source": [
    "def main(seed=None):\n",
    "    random.seed(seed)\n",
    "\n",
    "    # Inicialización de estadísticas\n",
    "    stats = tools.Statistics(lambda ind: ind.fitness.values)\n",
    "    stats.register(\"avg\", np.mean, axis=0)\n",
    "    stats.register(\"std\", np.std, axis=0)\n",
    "    stats.register(\"min\", np.min, axis=0)\n",
    "    stats.register(\"max\", np.max, axis=0)\n",
    "\n",
    "    logbook = tools.Logbook()\n",
    "    logbook.header = \"gen\", \"evals\", \"std\", \"min\", \"avg\", \"max\"\n",
    "\n",
    "    pop = toolbox.population(n=MU)\n",
    "\n",
    "    # Evaluación inicial\n",
    "    invalid_ind = [ind for ind in pop if not ind.fitness.valid]\n",
    "    fitnesses = toolbox.map(toolbox.evaluate, invalid_ind)\n",
    "    for ind, fit in zip(invalid_ind, fitnesses):\n",
    "        ind.fitness.values = fit\n",
    "\n",
    "    # Registro de estadísticas\n",
    "    record = stats.compile(pop)\n",
    "    logbook.record(gen=0, evals=len(invalid_ind), **record)\n",
    "    print('Gen: 0')\n",
    "\n",
    "    # Inicio del proceso generacional\n",
    "    for gen in range(1, NGEN):\n",
    "        #Creación de descendencia\n",
    "        offspring = algorithms.varAnd(pop, toolbox, CXPB, MUTPB)\n",
    "\n",
    "        #Evaluación\n",
    "        invalid_ind = [ind for ind in offspring if not ind.fitness.valid]\n",
    "        fitnesses = toolbox.map(toolbox.evaluate, invalid_ind)\n",
    "        for ind, fit in zip(invalid_ind, fitnesses):\n",
    "            ind.fitness.values = fit\n",
    "\n",
    "        #Selección\n",
    "        pop = toolbox.select(pop + offspring, MU)\n",
    "\n",
    "        #Estadísticas\n",
    "        record = stats.compile(pop)\n",
    "        logbook.record(gen=gen, evals=len(invalid_ind), **record)\n",
    "        print('Gen: ' + str(gen))\n",
    "\n",
    "    return pop, logbook"
   ]
  },
  {
   "cell_type": "markdown",
   "id": "63fba0df",
   "metadata": {},
   "source": [
    "# Pruebas"
   ]
  },
  {
   "cell_type": "code",
   "execution_count": 44,
   "id": "af80cfd3",
   "metadata": {},
   "outputs": [],
   "source": [
    "valeria = 'GUZMAN ALMEIDA VALERIA DEL CARMEN'\n",
    "angel = 'LÓPEZ ALVAREZ ANGEL DANIEL'\n",
    "manuel = 'GUTIERREZ LOPEZ MANUEL ANTONIO'\n",
    "brandon = '170300103'\n",
    "darwin = '180300330'\n",
    "gilberto = '180300331'\n",
    "rogelio = '180300332'\n",
    "miguel = '180300338'\n",
    "alan = '190300384'\n",
    "dylan = '190300410'\n",
    "rodrigo = '190300432'\n",
    "karina = '190300607'\n",
    "\n",
    "periodoActual = 202301"
   ]
  },
  {
   "cell_type": "code",
   "execution_count": 45,
   "id": "e2928624",
   "metadata": {},
   "outputs": [],
   "source": [
    "def saveToCsv(pop,log,estudiante):\n",
    "    f = open('./logs/' + estudiante + '.csv','w')\n",
    "    f.write('gen,evals,avg_upcc,avg_upmr,avg_upcm,avg_cpdh,avg_cpah,std_upcc,std_upmr,std_upcm,std_cpdh,std_cpah,min_upcc,min_upmr,min_upcm,min_cpdh,min_cpah,max_upcc,max_upmr,max_upcm,max_cpdh,max_cpah\\n')\n",
    "\n",
    "    for l in log:\n",
    "        f.write(str(l['gen']) + ',')\n",
    "        f.write(str(l['evals']) + ',')\n",
    "\n",
    "        f.write(str(l['avg'][0]) + ',')\n",
    "        f.write(str(l['avg'][1]) + ',')\n",
    "        f.write(str(l['avg'][2]) + ',')\n",
    "        f.write(str(l['avg'][3]) + ',')\n",
    "        f.write(str(l['avg'][4]) + ',')\n",
    "\n",
    "        f.write(str(l['std'][0]) + ',')\n",
    "        f.write(str(l['std'][1]) + ',')\n",
    "        f.write(str(l['std'][2]) + ',')\n",
    "        f.write(str(l['std'][3]) + ',')\n",
    "        f.write(str(l['std'][4]) + ',')\n",
    "\n",
    "        f.write(str(l['min'][0]) + ',')\n",
    "        f.write(str(l['min'][1]) + ',')\n",
    "        f.write(str(l['min'][2]) + ',')\n",
    "        f.write(str(l['min'][3]) + ',')\n",
    "        f.write(str(l['min'][4]) + ',')\n",
    "\n",
    "        f.write(str(l['max'][0]) + ',')\n",
    "        f.write(str(l['max'][1]) + ',')\n",
    "        f.write(str(l['max'][2]) + ',')\n",
    "        f.write(str(l['max'][3]) + ',')\n",
    "        f.write(str(l['max'][4]) + '\\n')\n",
    "\n",
    "    f.close()\n",
    "\n",
    "    f = open('./recs/' + estudiante + '.csv','w')\n",
    "    f.write('a1,a2,a3,a4,a5,a6,a7,a8,a9\\n')\n",
    "    for p in pop:\n",
    "        f.write(str(p[0]) + ',')\n",
    "        f.write(str(p[1]) + ',')\n",
    "        f.write(str(p[2]) + ',')\n",
    "        f.write(str(p[3]) + ',')\n",
    "        f.write(str(p[4]) + ',')\n",
    "        f.write(str(p[5]) + ',')\n",
    "        f.write(str(p[6]) + ',')\n",
    "        f.write(str(p[7]) + ',')\n",
    "        f.write(str(p[8]) + '\\n')\n",
    "\n",
    "    f.close()"
   ]
  },
  {
   "cell_type": "markdown",
   "id": "349ff4ed",
   "metadata": {},
   "source": [
    "## Valeria"
   ]
  },
  {
   "cell_type": "code",
   "execution_count": 53,
   "id": "bad3c3fa",
   "metadata": {},
   "outputs": [],
   "source": [
    "estudiante = valeria"
   ]
  },
  {
   "cell_type": "code",
   "execution_count": 54,
   "id": "2645f56d",
   "metadata": {},
   "outputs": [],
   "source": [
    "disponibilidadComoRestriccion = False\n",
    "disponibilidad = pd.DataFrame({\n",
    "    \"hora\": [7,8,9,10,11,12,13,14,15,16,17,18,19,20,21],\n",
    "    \"Lunes\": [True,True,True,True,True,True,True,True,False,False,False,False,False,False,False],\n",
    "    \"Martes\": [True,True,True,True,True,True,True,True,False,False,False,False,False,False,False],\n",
    "    \"Miercoles\": [True,True,True,True,True,True,True,True,False,False,False,False,False,False,False],\n",
    "    \"Jueves\": [True,True,True,True,True,True,True,True,False,False,False,False,False,False,False],\n",
    "    \"Viernes\": [True,True,True,True,True,True,True,True,False,False,False,False,False,False,False]\n",
    "})\n",
    "plan = plan_2016\n",
    "\n",
    "nombre,matricula,situacion,planN,kardex = leerPdfKardex(estudiante)\n",
    "ofertaUtil = obtenerOfertaUtil(kardex,oferta)\n",
    "cantidadMateriasIdeal = 0"
   ]
  },
  {
   "cell_type": "code",
   "execution_count": 51,
   "id": "05424dc1",
   "metadata": {},
   "outputs": [],
   "source": [
    "NOBJ = 5\n",
    "K = 10\n",
    "NDIM = NOBJ + K - 1\n",
    "P = 12\n",
    "H = factorial(NOBJ + P - 1) / (factorial(P) * factorial(NOBJ - 1))\n",
    "BOUND_LOW, BOUND_UP = 0.0, 1.0\n",
    "MU = int(H + (4 - H % 4))\n",
    "NGEN = 100\n",
    "CXPB = 1.0\n",
    "MUTPB = 1.0\n",
    "ref_points = tools.uniform_reference_points(NOBJ, P)\n",
    "\n",
    "toolbox.register(\"select\", tools.selNSGA3, ref_points=ref_points)"
   ]
  },
  {
   "cell_type": "code",
   "execution_count": null,
   "id": "57a57166",
   "metadata": {
    "scrolled": true
   },
   "outputs": [],
   "source": [
    "pop,log = main()"
   ]
  },
  {
   "cell_type": "code",
   "execution_count": null,
   "id": "1cab4221",
   "metadata": {},
   "outputs": [],
   "source": [
    "saveToCsv(pop,log,estudiante)"
   ]
  },
  {
   "cell_type": "markdown",
   "id": "86a399f3",
   "metadata": {},
   "source": [
    "## Angel"
   ]
  },
  {
   "cell_type": "code",
   "execution_count": null,
   "id": "87223779",
   "metadata": {},
   "outputs": [],
   "source": [
    "estudiante = angel"
   ]
  },
  {
   "cell_type": "code",
   "execution_count": null,
   "id": "0a4332c6",
   "metadata": {},
   "outputs": [],
   "source": [
    "disponibilidadComoRestriccion = False\n",
    "disponibilidad = disponibilidadArr[4]\n",
    "plan = plan_2016\n",
    "\n",
    "nombre,matricula,situacion,planN,kardex = leerPdfKardex(estudiante)\n",
    "ofertaUtil = obtenerOfertaUtil(kardex,oferta)\n",
    "cantidadMateriasIdeal = 0"
   ]
  },
  {
   "cell_type": "code",
   "execution_count": null,
   "id": "a3cb5dac",
   "metadata": {},
   "outputs": [],
   "source": [
    "NOBJ = 5\n",
    "K = 10\n",
    "NDIM = NOBJ + K - 1\n",
    "P = 12\n",
    "H = factorial(NOBJ + P - 1) / (factorial(P) * factorial(NOBJ - 1))\n",
    "BOUND_LOW, BOUND_UP = 0.0, 1.0\n",
    "MU = int(H + (4 - H % 4))\n",
    "NGEN = 100\n",
    "CXPB = 1.0\n",
    "MUTPB = 1.0\n",
    "ref_points = tools.uniform_reference_points(NOBJ, P)\n",
    "\n",
    "toolbox.register(\"select\", tools.selNSGA3, ref_points=ref_points)"
   ]
  },
  {
   "cell_type": "code",
   "execution_count": null,
   "id": "a9b1ed8e",
   "metadata": {
    "scrolled": true
   },
   "outputs": [],
   "source": [
    "pop,log = main()"
   ]
  },
  {
   "cell_type": "code",
   "execution_count": null,
   "id": "faa971fa",
   "metadata": {},
   "outputs": [],
   "source": [
    "saveToCsv(pop,log,estudiante)"
   ]
  },
  {
   "cell_type": "markdown",
   "id": "b9c732dd",
   "metadata": {},
   "source": [
    "## Manuel"
   ]
  },
  {
   "cell_type": "code",
   "execution_count": null,
   "id": "fec65e62",
   "metadata": {},
   "outputs": [],
   "source": [
    "estudiante = manuel"
   ]
  },
  {
   "cell_type": "code",
   "execution_count": null,
   "id": "0ca5af66",
   "metadata": {},
   "outputs": [],
   "source": [
    "disponibilidadComoRestriccion = False\n",
    "disponibilidad = disponibilidadArr[4]\n",
    "plan = plan_2016\n",
    "\n",
    "nombre,matricula,situacion,planN,kardex = leerPdfKardex(estudiante)\n",
    "ofertaUtil = obtenerOfertaUtil(kardex,oferta)\n",
    "cantidadMateriasIdeal = 0"
   ]
  },
  {
   "cell_type": "code",
   "execution_count": null,
   "id": "a8986cf9",
   "metadata": {},
   "outputs": [],
   "source": [
    "NOBJ = 5\n",
    "K = 10\n",
    "NDIM = NOBJ + K - 1\n",
    "P = 12\n",
    "H = factorial(NOBJ + P - 1) / (factorial(P) * factorial(NOBJ - 1))\n",
    "BOUND_LOW, BOUND_UP = 0.0, 1.0\n",
    "MU = int(H + (4 - H % 4))\n",
    "NGEN = 100\n",
    "CXPB = 1.0\n",
    "MUTPB = 1.0\n",
    "ref_points = tools.uniform_reference_points(NOBJ, P)\n",
    "\n",
    "toolbox.register(\"select\", tools.selNSGA3, ref_points=ref_points)"
   ]
  },
  {
   "cell_type": "code",
   "execution_count": null,
   "id": "5206f88f",
   "metadata": {
    "scrolled": true
   },
   "outputs": [],
   "source": [
    "pop,log = main()"
   ]
  },
  {
   "cell_type": "code",
   "execution_count": null,
   "id": "43ce7322",
   "metadata": {},
   "outputs": [],
   "source": [
    "saveToCsv(pop,log,estudiante)"
   ]
  },
  {
   "cell_type": "markdown",
   "id": "77911a2a",
   "metadata": {},
   "source": [
    "## Brandon"
   ]
  },
  {
   "cell_type": "code",
   "execution_count": null,
   "id": "76719eea",
   "metadata": {},
   "outputs": [],
   "source": [
    "estudiante = brandon"
   ]
  },
  {
   "cell_type": "code",
   "execution_count": null,
   "id": "fea491de",
   "metadata": {},
   "outputs": [],
   "source": [
    "disponibilidadComoRestriccion = False\n",
    "disponibilidad = disponibilidadArr[4]\n",
    "plan = plan_2016\n",
    "\n",
    "nombre,matricula,situacion,planN,kardex = leerPdfKardex(estudiante)\n",
    "ofertaUtil = obtenerOfertaUtil(kardex,oferta)\n",
    "cantidadMateriasIdeal = 0"
   ]
  },
  {
   "cell_type": "code",
   "execution_count": null,
   "id": "5dfd0cb8",
   "metadata": {},
   "outputs": [],
   "source": [
    "NOBJ = 5\n",
    "K = 10\n",
    "NDIM = NOBJ + K - 1\n",
    "P = 12\n",
    "H = factorial(NOBJ + P - 1) / (factorial(P) * factorial(NOBJ - 1))\n",
    "BOUND_LOW, BOUND_UP = 0.0, 1.0\n",
    "MU = int(H + (4 - H % 4))\n",
    "NGEN = 100\n",
    "CXPB = 1.0\n",
    "MUTPB = 1.0\n",
    "ref_points = tools.uniform_reference_points(NOBJ, P)\n",
    "\n",
    "toolbox.register(\"select\", tools.selNSGA3, ref_points=ref_points)"
   ]
  },
  {
   "cell_type": "code",
   "execution_count": null,
   "id": "aec3507b",
   "metadata": {
    "scrolled": true
   },
   "outputs": [],
   "source": [
    "pop,log = main()"
   ]
  },
  {
   "cell_type": "code",
   "execution_count": null,
   "id": "a8be98d6",
   "metadata": {},
   "outputs": [],
   "source": [
    "saveToCsv(pop,log,estudiante)"
   ]
  },
  {
   "cell_type": "code",
   "execution_count": null,
   "id": "07afbece",
   "metadata": {},
   "outputs": [],
   "source": []
  },
  {
   "cell_type": "markdown",
   "id": "0140df09",
   "metadata": {},
   "source": [
    "## Darwin"
   ]
  },
  {
   "cell_type": "code",
   "execution_count": null,
   "id": "13b36a41",
   "metadata": {},
   "outputs": [],
   "source": [
    "estudiante = darwin"
   ]
  },
  {
   "cell_type": "code",
   "execution_count": null,
   "id": "79f161cf",
   "metadata": {},
   "outputs": [],
   "source": [
    "disponibilidadComoRestriccion = False\n",
    "disponibilidad = pd.DataFrame({\n",
    "    \"hora\": [7,8,9,10,11,12,13,14,15,16,17,18,19,20,21],\n",
    "    \"Lunes\": [False,False,False,False,False,False,False,True,True,True,True,True,True,True,True],\n",
    "    \"Martes\": [False,False,False,False,False,False,False,False,False,True,True,True,True,True,True],\n",
    "    \"Miercoles\": [False,False,False,False,False,False,False,True,True,True,True,True,True,True,True],\n",
    "    \"Jueves\": [False,False,False,False,False,False,False,False,False,True,True,True,True,True,True],\n",
    "    \"Viernes\": [False,False,False,False,False,False,False,True,True,True,True,True,True,True,True]\n",
    "})\n",
    "plan = plan_2016\n",
    "\n",
    "nombre,matricula,situacion,planN,kardex = leerPdfKardex(estudiante)\n",
    "ofertaUtil = obtenerOfertaUtil(kardex,oferta)\n",
    "cantidadMateriasIdeal = 0"
   ]
  },
  {
   "cell_type": "code",
   "execution_count": null,
   "id": "0b784ad2",
   "metadata": {},
   "outputs": [],
   "source": [
    "NOBJ = 5\n",
    "K = 10\n",
    "NDIM = NOBJ + K - 1\n",
    "P = 12\n",
    "H = factorial(NOBJ + P - 1) / (factorial(P) * factorial(NOBJ - 1))\n",
    "BOUND_LOW, BOUND_UP = 0.0, 1.0\n",
    "MU = int(H + (4 - H % 4))\n",
    "NGEN = 100\n",
    "CXPB = 1.0\n",
    "MUTPB = 1.0\n",
    "ref_points = tools.uniform_reference_points(NOBJ, P)\n",
    "\n",
    "toolbox.register(\"select\", tools.selNSGA3, ref_points=ref_points)"
   ]
  },
  {
   "cell_type": "code",
   "execution_count": null,
   "id": "9aced971",
   "metadata": {
    "scrolled": true
   },
   "outputs": [],
   "source": [
    "pop,log = main()"
   ]
  },
  {
   "cell_type": "code",
   "execution_count": null,
   "id": "adeb6257",
   "metadata": {},
   "outputs": [],
   "source": [
    "saveToCsv(pop,log,estudiante)"
   ]
  },
  {
   "cell_type": "code",
   "execution_count": null,
   "id": "6fb2c029",
   "metadata": {},
   "outputs": [],
   "source": []
  },
  {
   "cell_type": "markdown",
   "id": "20742f93",
   "metadata": {},
   "source": [
    "## Gilberto"
   ]
  },
  {
   "cell_type": "code",
   "execution_count": null,
   "id": "1b45e133",
   "metadata": {},
   "outputs": [],
   "source": [
    "estudiante = gilberto"
   ]
  },
  {
   "cell_type": "code",
   "execution_count": null,
   "id": "1ed79c63",
   "metadata": {},
   "outputs": [],
   "source": [
    "disponibilidadComoRestriccion = True\n",
    "disponibilidad = pd.DataFrame({\n",
    "    \"hora\": [7,8,9,10,11,12,13,14,15,16,17,18,19,20,21],\n",
    "    \"Lunes\": [False,False,False,False,False,False,False,False,False,True,True,True,True,True,True],\n",
    "    \"Martes\": [False,False,False,False,False,False,False,True,True,True,True,True,True,True,True],\n",
    "    \"Miercoles\": [False,False,False,False,False,False,False,False,False,True,True,True,True,True,True],\n",
    "    \"Jueves\": [False,False,False,False,False,False,False,True,True,True,True,True,True,True,True],\n",
    "    \"Viernes\": [False,False,False,False,False,False,False,False,False,True,True,True,True,True,True],\n",
    "})\n",
    "plan = plan_2016\n",
    "\n",
    "nombre,matricula,situacion,planN,kardex = leerPdfKardex(estudiante)\n",
    "ofertaUtil = obtenerOfertaUtil(kardex,oferta)\n",
    "cantidadMateriasIdeal = 0"
   ]
  },
  {
   "cell_type": "code",
   "execution_count": null,
   "id": "33196e16",
   "metadata": {},
   "outputs": [],
   "source": [
    "NOBJ = 5\n",
    "K = 10\n",
    "NDIM = NOBJ + K - 1\n",
    "P = 12\n",
    "H = factorial(NOBJ + P - 1) / (factorial(P) * factorial(NOBJ - 1))\n",
    "BOUND_LOW, BOUND_UP = 0.0, 1.0\n",
    "MU = int(H + (4 - H % 4))\n",
    "NGEN = 100\n",
    "CXPB = 1.0\n",
    "MUTPB = 1.0\n",
    "ref_points = tools.uniform_reference_points(NOBJ, P)\n",
    "\n",
    "toolbox.register(\"select\", tools.selNSGA3, ref_points=ref_points)"
   ]
  },
  {
   "cell_type": "code",
   "execution_count": null,
   "id": "e948f67d",
   "metadata": {
    "scrolled": true
   },
   "outputs": [],
   "source": [
    "pop,log = main()"
   ]
  },
  {
   "cell_type": "code",
   "execution_count": null,
   "id": "e9c09a31",
   "metadata": {},
   "outputs": [],
   "source": [
    "saveToCsv(pop,log,estudiante)"
   ]
  },
  {
   "cell_type": "code",
   "execution_count": null,
   "id": "c20f3b0b",
   "metadata": {},
   "outputs": [],
   "source": []
  },
  {
   "cell_type": "markdown",
   "id": "001da924",
   "metadata": {},
   "source": [
    "## Rogelio"
   ]
  },
  {
   "cell_type": "code",
   "execution_count": null,
   "id": "29284c20",
   "metadata": {},
   "outputs": [],
   "source": [
    "estudiante = rogelio"
   ]
  },
  {
   "cell_type": "code",
   "execution_count": null,
   "id": "a0cd3c0b",
   "metadata": {},
   "outputs": [],
   "source": [
    "disponibilidadComoRestriccion = False\n",
    "disponibilidad = pd.DataFrame({\n",
    "    \"hora\": [7,8,9,10,11,12,13,14,15,16,17,18,19,20,21],\n",
    "    \"Lunes\": [False,False,False,False,False,False,False,False,False,False,False,True,True,True,True],\n",
    "    \"Martes\": [False,False,False,False,False,False,False,False,False,False,False,True,True,True,True],\n",
    "    \"Miercoles\": [False,False,False,False,False,False,False,False,False,False,False,True,True,True,True],\n",
    "    \"Jueves\": [False,False,False,False,False,False,False,False,False,False,False,True,True,True,True],\n",
    "    \"Viernes\": [False,False,False,False,False,False,False,False,False,False,False,True,True,True,True],\n",
    "})\n",
    "plan = plan_2016\n",
    "\n",
    "nombre,matricula,situacion,planN,kardex = leerPdfKardex(estudiante)\n",
    "ofertaUtil = obtenerOfertaUtil(kardex,oferta)\n",
    "cantidadMateriasIdeal = 0"
   ]
  },
  {
   "cell_type": "code",
   "execution_count": null,
   "id": "fa5dba86",
   "metadata": {},
   "outputs": [],
   "source": [
    "NOBJ = 5\n",
    "K = 10\n",
    "NDIM = NOBJ + K - 1\n",
    "P = 12\n",
    "H = factorial(NOBJ + P - 1) / (factorial(P) * factorial(NOBJ - 1))\n",
    "MU = int(H + (4 - H % 4))\n",
    "NGEN = 100\n",
    "CXPB = 1.0\n",
    "MUTPB = 1.0\n",
    "ref_points = tools.uniform_reference_points(NOBJ, P)\n",
    "\n",
    "toolbox.register(\"select\", tools.selNSGA3, ref_points=ref_points)"
   ]
  },
  {
   "cell_type": "code",
   "execution_count": null,
   "id": "369ce68d",
   "metadata": {
    "scrolled": true
   },
   "outputs": [],
   "source": [
    "pop,log = main()"
   ]
  },
  {
   "cell_type": "code",
   "execution_count": null,
   "id": "c67b58d3",
   "metadata": {},
   "outputs": [],
   "source": [
    "saveToCsv(pop,log,estudiante)"
   ]
  },
  {
   "cell_type": "code",
   "execution_count": null,
   "id": "7c96f33d",
   "metadata": {},
   "outputs": [],
   "source": []
  },
  {
   "cell_type": "markdown",
   "id": "e5393229",
   "metadata": {},
   "source": [
    "## Miguel"
   ]
  },
  {
   "cell_type": "code",
   "execution_count": null,
   "id": "3283053b",
   "metadata": {},
   "outputs": [],
   "source": [
    "estudiante = miguel"
   ]
  },
  {
   "cell_type": "code",
   "execution_count": null,
   "id": "3106ccc0",
   "metadata": {},
   "outputs": [],
   "source": [
    "disponibilidadComoRestriccion = True\n",
    "disponibilidad = pd.DataFrame({\n",
    "    \"hora\": [7,8,9,10,11,12,13,14,15,16,17,18,19,20,21],\n",
    "    \"Lunes\": [False,False,False,False,False,False,False,False,False,True,True,True,True,True,True],\n",
    "    \"Martes\": [False,False,False,False,False,False,False,True,True,True,True,True,True,True,True],\n",
    "    \"Miercoles\": [False,False,False,False,False,False,False,False,False,True,True,True,True,True,True],\n",
    "    \"Jueves\": [False,False,False,False,False,False,False,True,True,True,True,True,True,True,True],\n",
    "    \"Viernes\": [False,False,False,False,False,False,False,False,False,True,True,True,True,True,True],\n",
    "})\n",
    "plan = plan_2016\n",
    "\n",
    "nombre,matricula,situacion,planN,kardex = leerPdfKardex(estudiante)\n",
    "ofertaUtil = obtenerOfertaUtil(kardex,oferta)\n",
    "cantidadMateriasIdeal = 0"
   ]
  },
  {
   "cell_type": "code",
   "execution_count": null,
   "id": "33451351",
   "metadata": {},
   "outputs": [],
   "source": [
    "NOBJ = 5\n",
    "K = 10\n",
    "NDIM = NOBJ + K - 1\n",
    "P = 12\n",
    "H = factorial(NOBJ + P - 1) / (factorial(P) * factorial(NOBJ - 1))\n",
    "BOUND_LOW, BOUND_UP = 0.0, 1.0\n",
    "MU = int(H + (4 - H % 4))\n",
    "NGEN = 100\n",
    "CXPB = 1.0\n",
    "MUTPB = 1.0\n",
    "ref_points = tools.uniform_reference_points(NOBJ, P)\n",
    "\n",
    "toolbox.register(\"select\", tools.selNSGA3, ref_points=ref_points)"
   ]
  },
  {
   "cell_type": "code",
   "execution_count": null,
   "id": "567ef9b9",
   "metadata": {
    "scrolled": true
   },
   "outputs": [],
   "source": [
    "pop,log = main()"
   ]
  },
  {
   "cell_type": "code",
   "execution_count": null,
   "id": "6bc32dd8",
   "metadata": {},
   "outputs": [],
   "source": [
    "saveToCsv(pop,log,estudiante)"
   ]
  },
  {
   "cell_type": "code",
   "execution_count": null,
   "id": "514b763e",
   "metadata": {},
   "outputs": [],
   "source": []
  },
  {
   "cell_type": "markdown",
   "id": "f20aecca",
   "metadata": {},
   "source": [
    "## Alan"
   ]
  },
  {
   "cell_type": "code",
   "execution_count": null,
   "id": "7c6d04b9",
   "metadata": {},
   "outputs": [],
   "source": [
    "estudiante = alan"
   ]
  },
  {
   "cell_type": "code",
   "execution_count": null,
   "id": "e52cfebb",
   "metadata": {},
   "outputs": [],
   "source": [
    "disponibilidadComoRestriccion = False\n",
    "disponibilidad = pd.DataFrame({\n",
    "    \"hora\": [7,8,9,10,11,12,13,14,15,16,17,18,19,20,21],\n",
    "    \"Lunes\": [False,False,True,True,True,True,True,False,False,False,False,False,False,False,False],\n",
    "    \"Martes\": [False,False,True,True,True,True,True,False,False,False,False,False,False,False,False],\n",
    "    \"Miercoles\": [False,False,True,True,True,True,True,False,False,False,False,False,False,False,False],\n",
    "    \"Jueves\": [False,False,True,True,True,True,True,False,False,False,False,False,False,False,False],\n",
    "    \"Viernes\": [False,False,True,True,True,True,True,False,False,False,False,False,False,False,False],\n",
    "})\n",
    "plan = plan_2016\n",
    "\n",
    "nombre,matricula,situacion,planN,kardex = leerPdfKardex(estudiante)\n",
    "ofertaUtil = obtenerOfertaUtil(kardex,oferta)\n",
    "cantidadMateriasIdeal = 0"
   ]
  },
  {
   "cell_type": "code",
   "execution_count": 7,
   "id": "65334c3e",
   "metadata": {},
   "outputs": [
    {
     "data": {
      "text/plain": [
       "6188.0"
      ]
     },
     "execution_count": 7,
     "metadata": {},
     "output_type": "execute_result"
    }
   ],
   "source": [
    "factorial(6+12-1) / (factorial(12) * factorial(5))"
   ]
  },
  {
   "cell_type": "code",
   "execution_count": 8,
   "id": "3a409d81",
   "metadata": {},
   "outputs": [
    {
     "data": {
      "text/plain": [
       "6192"
      ]
     },
     "execution_count": 8,
     "metadata": {},
     "output_type": "execute_result"
    }
   ],
   "source": [
    "int(6188 + (4 - 6188 % 4))"
   ]
  },
  {
   "cell_type": "code",
   "execution_count": 1,
   "id": "5bf47cfd",
   "metadata": {},
   "outputs": [
    {
     "ename": "NameError",
     "evalue": "name 'factorial' is not defined",
     "output_type": "error",
     "traceback": [
      "\u001b[1;31m---------------------------------------------------------------------------\u001b[0m",
      "\u001b[1;31mNameError\u001b[0m                                 Traceback (most recent call last)",
      "Input \u001b[1;32mIn [1]\u001b[0m, in \u001b[0;36m<cell line: 5>\u001b[1;34m()\u001b[0m\n\u001b[0;32m      3\u001b[0m NDIM \u001b[38;5;241m=\u001b[39m NOBJ \u001b[38;5;241m+\u001b[39m K \u001b[38;5;241m-\u001b[39m \u001b[38;5;241m1\u001b[39m\n\u001b[0;32m      4\u001b[0m P \u001b[38;5;241m=\u001b[39m \u001b[38;5;241m12\u001b[39m\n\u001b[1;32m----> 5\u001b[0m H \u001b[38;5;241m=\u001b[39m \u001b[43mfactorial\u001b[49m(NOBJ \u001b[38;5;241m+\u001b[39m P \u001b[38;5;241m-\u001b[39m \u001b[38;5;241m1\u001b[39m) \u001b[38;5;241m/\u001b[39m (factorial(P) \u001b[38;5;241m*\u001b[39m factorial(NOBJ \u001b[38;5;241m-\u001b[39m \u001b[38;5;241m1\u001b[39m))\n\u001b[0;32m      6\u001b[0m BOUND_LOW, BOUND_UP \u001b[38;5;241m=\u001b[39m \u001b[38;5;241m0.0\u001b[39m, \u001b[38;5;241m1.0\u001b[39m\n\u001b[0;32m      7\u001b[0m MU \u001b[38;5;241m=\u001b[39m \u001b[38;5;28mint\u001b[39m(H \u001b[38;5;241m+\u001b[39m (\u001b[38;5;241m4\u001b[39m \u001b[38;5;241m-\u001b[39m H \u001b[38;5;241m%\u001b[39m \u001b[38;5;241m4\u001b[39m))\n",
      "\u001b[1;31mNameError\u001b[0m: name 'factorial' is not defined"
     ]
    }
   ],
   "source": [
    "NOBJ = 6\n",
    "K = 10\n",
    "NDIM = NOBJ + K - 1\n",
    "P = 12\n",
    "H = factorial(NOBJ + P - 1) / (factorial(P) * factorial(NOBJ - 1))\n",
    "BOUND_LOW, BOUND_UP = 0.0, 1.0\n",
    "MU = int(H + (4 - H % 4))\n",
    "NGEN = 100\n",
    "CXPB = 1.0\n",
    "MUTPB = 1.0\n",
    "ref_points = tools.uniform_reference_points(NOBJ, P)\n",
    "\n",
    "toolbox.register(\"select\", tools.selNSGA3, ref_points=ref_points)"
   ]
  },
  {
   "cell_type": "code",
   "execution_count": null,
   "id": "17e5db0f",
   "metadata": {
    "scrolled": true
   },
   "outputs": [],
   "source": [
    "pop,log = main()"
   ]
  },
  {
   "cell_type": "code",
   "execution_count": null,
   "id": "ae03f6e2",
   "metadata": {},
   "outputs": [],
   "source": [
    "saveToCsv(pop,log,estudiante)"
   ]
  },
  {
   "cell_type": "markdown",
   "id": "d7f91eb3",
   "metadata": {},
   "source": [
    "## Dylan"
   ]
  },
  {
   "cell_type": "code",
   "execution_count": null,
   "id": "cf2d1ea4",
   "metadata": {},
   "outputs": [],
   "source": [
    "estudiante = dylan"
   ]
  },
  {
   "cell_type": "code",
   "execution_count": null,
   "id": "385b5232",
   "metadata": {},
   "outputs": [],
   "source": [
    "disponibilidadComoRestriccion = False\n",
    "disponibilidad = pd.DataFrame({\n",
    "    \"hora\": [7,8,9,10,11,12,13,14,15,16,17,18,19,20,21],\n",
    "    \"Lunes\": [True,True,True,True,True,True,True,True,False,False,False,False,False,False,False],\n",
    "    \"Martes\": [False,False,True,True,True,True,True,True,False,False,False,False,False,False,False],\n",
    "    \"Miercoles\": [False,True,True,True,True,True,False,False,False,False,False,False,False,False,False],\n",
    "    \"Jueves\": [False,True,True,True,True,True,True,True,False,False,False,False,False,False,False],\n",
    "    \"Viernes\": [False,True,True,True,True,False,False,False,False,False,False,False,False,False,False]\n",
    "})\n",
    "plan = plan_2016\n",
    "\n",
    "nombre,matricula,situacion,planN,kardex = leerPdfKardex(estudiante)\n",
    "ofertaUtil = obtenerOfertaUtil(kardex,oferta)\n",
    "cantidadMateriasIdeal = 0"
   ]
  },
  {
   "cell_type": "code",
   "execution_count": null,
   "id": "e7b0b6a3",
   "metadata": {},
   "outputs": [],
   "source": [
    "NOBJ = 5\n",
    "K = 10\n",
    "NDIM = NOBJ + K - 1\n",
    "P = 12\n",
    "H = factorial(NOBJ + P - 1) / (factorial(P) * factorial(NOBJ - 1))\n",
    "BOUND_LOW, BOUND_UP = 0.0, 1.0\n",
    "MU = int(H + (4 - H % 4))\n",
    "NGEN = 100\n",
    "CXPB = 1.0\n",
    "MUTPB = 1.0\n",
    "ref_points = tools.uniform_reference_points(NOBJ, P)\n",
    "\n",
    "toolbox.register(\"select\", tools.selNSGA3, ref_points=ref_points)"
   ]
  },
  {
   "cell_type": "code",
   "execution_count": null,
   "id": "37b47301",
   "metadata": {
    "scrolled": true
   },
   "outputs": [],
   "source": [
    "pop,log = main()"
   ]
  },
  {
   "cell_type": "code",
   "execution_count": null,
   "id": "6664f7a5",
   "metadata": {},
   "outputs": [],
   "source": [
    "saveToCsv(pop,log,estudiante)"
   ]
  },
  {
   "cell_type": "code",
   "execution_count": null,
   "id": "51228fe9",
   "metadata": {},
   "outputs": [],
   "source": []
  },
  {
   "cell_type": "markdown",
   "id": "99af58d7",
   "metadata": {},
   "source": [
    "## Rodrigo"
   ]
  },
  {
   "cell_type": "code",
   "execution_count": null,
   "id": "8d8c2db0",
   "metadata": {},
   "outputs": [],
   "source": [
    "estudiante = rodrigo"
   ]
  },
  {
   "cell_type": "code",
   "execution_count": null,
   "id": "63c065c8",
   "metadata": {},
   "outputs": [],
   "source": [
    "disponibilidadComoRestriccion = False\n",
    "disponibilidad = pd.DataFrame({\n",
    "    \"hora\": [7,8,9,10,11,12,13,14,15,16,17,18,19,20,21],\n",
    "    \"Lunes\": [True,True,True,True,True,True,True,True,False,False,False,False,False,False,False],\n",
    "    \"Martes\": [True,True,True,True,True,True,True,True,False,False,False,False,False,False,False],\n",
    "    \"Miercoles\": [True,True,True,True,True,True,True,True,False,False,False,False,False,False,False],\n",
    "    \"Jueves\": [True,True,True,True,True,True,True,True,False,False,False,False,False,False,False],\n",
    "    \"Viernes\": [True,True,True,True,True,True,True,True,False,False,False,False,False,False,False]\n",
    "})\n",
    "plan = plan_2016\n",
    "\n",
    "nombre,matricula,situacion,planN,kardex = leerPdfKardex(estudiante)\n",
    "ofertaUtil = obtenerOfertaUtil(kardex,oferta)\n",
    "cantidadMateriasIdeal = 0"
   ]
  },
  {
   "cell_type": "code",
   "execution_count": null,
   "id": "1a523dd0",
   "metadata": {},
   "outputs": [],
   "source": [
    "NOBJ = 5\n",
    "K = 10\n",
    "NDIM = NOBJ + K - 1\n",
    "P = 12\n",
    "H = factorial(NOBJ + P - 1) / (factorial(P) * factorial(NOBJ - 1))\n",
    "BOUND_LOW, BOUND_UP = 0.0, 1.0\n",
    "MU = int(H + (4 - H % 4))\n",
    "NGEN = 100\n",
    "CXPB = 1.0\n",
    "MUTPB = 1.0\n",
    "ref_points = tools.uniform_reference_points(NOBJ, P)\n",
    "\n",
    "toolbox.register(\"select\", tools.selNSGA3, ref_points=ref_points)"
   ]
  },
  {
   "cell_type": "code",
   "execution_count": null,
   "id": "8a5163d5",
   "metadata": {
    "scrolled": true
   },
   "outputs": [],
   "source": [
    "pop,log = main()"
   ]
  },
  {
   "cell_type": "code",
   "execution_count": null,
   "id": "d3ce6297",
   "metadata": {},
   "outputs": [],
   "source": [
    "saveToCsv(pop,log,estudiante)"
   ]
  },
  {
   "cell_type": "code",
   "execution_count": null,
   "id": "9dfef966",
   "metadata": {},
   "outputs": [],
   "source": []
  },
  {
   "cell_type": "markdown",
   "id": "08ac2453",
   "metadata": {},
   "source": [
    "## Karina"
   ]
  },
  {
   "cell_type": "code",
   "execution_count": 46,
   "id": "afec91cf",
   "metadata": {},
   "outputs": [],
   "source": [
    "estudiante = karina"
   ]
  },
  {
   "cell_type": "code",
   "execution_count": 47,
   "id": "043a0612",
   "metadata": {},
   "outputs": [],
   "source": [
    "disponibilidadComoRestriccion = False\n",
    "disponibilidad = pd.DataFrame({\n",
    "    \"hora\": [7,8,9,10,11,12,13,14,15,16,17,18,19,20,21],\n",
    "    \"Lunes\": [False,False,True,True,True,True,True,True,False,False,False,False,False,False,False],\n",
    "    \"Martes\": [False,False,False,False,True,True,True,True,True,True,False,False,False,False,False],\n",
    "    \"Miercoles\": [False,False,True,True,True,True,True,True,False,False,False,False,False,False,False],\n",
    "    \"Jueves\": [False,False,False,False,True,True,True,True,True,True,False,False,False,False,False],\n",
    "    \"Viernes\": [False,False,True,True,True,True,True,True,False,False,False,False,False,False,False],\n",
    "})\n",
    "plan = plan_2016\n",
    "\n",
    "nombre,matricula,situacion,planN,kardex = leerPdfKardex(estudiante)\n",
    "ofertaUtil = obtenerOfertaUtil(kardex,oferta)\n",
    "cantidadMateriasIdeal = 0"
   ]
  },
  {
   "cell_type": "code",
   "execution_count": 48,
   "id": "ed16e117",
   "metadata": {},
   "outputs": [],
   "source": [
    "NOBJ = 5\n",
    "K = 10\n",
    "NDIM = NOBJ + K - 1\n",
    "P = 12\n",
    "H = factorial(NOBJ + P - 1) / (factorial(P) * factorial(NOBJ - 1))\n",
    "BOUND_LOW, BOUND_UP = 0.0, 1.0\n",
    "MU = int(H + (4 - H % 4))\n",
    "NGEN = 100\n",
    "CXPB = 1.0\n",
    "MUTPB = 1.0\n",
    "ref_points = tools.uniform_reference_points(NOBJ, P)\n",
    "\n",
    "toolbox.register(\"select\", tools.selNSGA3, ref_points=ref_points)"
   ]
  },
  {
   "cell_type": "code",
   "execution_count": null,
   "id": "b82a2217",
   "metadata": {
    "scrolled": true
   },
   "outputs": [],
   "source": [
    "pop,log = main()"
   ]
  },
  {
   "cell_type": "code",
   "execution_count": null,
   "id": "20390f27",
   "metadata": {},
   "outputs": [],
   "source": [
    "saveToCsv(pop,log,estudiante)"
   ]
  },
  {
   "cell_type": "markdown",
   "id": "892f5fea",
   "metadata": {},
   "source": [
    "## 180311421"
   ]
  },
  {
   "cell_type": "code",
   "execution_count": 203,
   "id": "88cfe7b2",
   "metadata": {},
   "outputs": [],
   "source": [
    "x = [\"Cierre de ciclos\", \"Selección de materias reprobadas\", \"Cantidad ideal de materias\"]\n",
    "y = [33, 44, 55]\n",
    "\n",
    "x2 = [\"Disponibilidad de horarios\", \"Amplitud de horario\"]\n",
    "y2 = [100,22]"
   ]
  },
  {
   "cell_type": "code",
   "execution_count": 210,
   "id": "40adf08e",
   "metadata": {},
   "outputs": [
    {
     "name": "stderr",
     "output_type": "stream",
     "text": [
      "C:\\Users\\eddie\\AppData\\Local\\Temp\\ipykernel_12580\\2391194136.py:7: UserWarning: FixedFormatter should only be used together with FixedLocator\n",
      "  axs[0].set_xticklabels(x,rotation=20, ha = 'right')\n"
     ]
    },
    {
     "data": {
      "text/plain": [
       "Text(0.5, 1.0, 'Costo')"
      ]
     },
     "execution_count": 210,
     "metadata": {},
     "output_type": "execute_result"
    },
    {
     "data": {
      "image/png": "[encoded data removed]",
      "text/plain": [
       "<Figure size 800x400 with 2 Axes>"
      ]
     },
     "metadata": {},
     "output_type": "display_data"
    }
   ],
   "source": [
    "fig, axs = plt.subplots(1,2, dpi= 80, figsize=(10,5), sharey= False,facecolor = 'pink')\n",
    "axs[0].set_ylim([0,110])\n",
    "axs[1].set_ylim([0,110])\n",
    "\n",
    "axs[0].set_facecolor('white')\n",
    "axs[0].set_facecolor('white')\n",
    "\n",
    "axs[0].set_xticklabels(x,rotation=20, ha = 'right')\n",
    "axs[0].bar(x, y,facecolor = '#28C52E')\n",
    "axs[0].bar_label((axs[0].containers[0]), fontsize = 12,labels=convertirListaIntToListaString(array=y), label_type='edge')\n",
    "axs[0].set_title('Utilidad')\n",
    "\n",
    "axs[1].bar(x2,y2,facecolor = '#FF2929')\n",
    "axs[1].bar_label((axs[1].containers[0]), fontsize = 12,labels=convertirListaIntToListaString(array=y2), label_type='edge')\n",
    "axs[1].set_title('Costo')\n",
    "\n",
    "#axs[0].set_xticklabels(x,rotation=45, ha = 'right')"
   ]
  },
  {
   "cell_type": "code",
   "execution_count": 152,
   "id": "369b431a",
   "metadata": {},
   "outputs": [
    {
     "name": "stderr",
     "output_type": "stream",
     "text": [
      "C:\\Users\\eddie\\AppData\\Local\\Temp\\ipykernel_12580\\1112909379.py:11: UserWarning: FixedFormatter should only be used together with FixedLocator\n",
      "  axs[0].set_xticklabels(x,rotation = 15, ha = 'right')\n",
      "C:\\Users\\eddie\\AppData\\Local\\Temp\\ipykernel_12580\\1112909379.py:16: UserWarning: FixedFormatter should only be used together with FixedLocator\n",
      "  axs[1].set_xticklabels(x2,rotation = 15, ha = 'right')\n"
     ]
    },
    {
     "data": {
      "text/plain": [
       "[Text(0, 0, 'Disponibilidad de horarios'), Text(1, 0, 'Amplitud de horario')]"
      ]
     },
     "execution_count": 152,
     "metadata": {},
     "output_type": "execute_result"
    },
    {
     "data": {
      "image/png": "[encoded data removed]",
      "text/plain": [
       "<Figure size 432x288 with 1 Axes>"
      ]
     },
     "metadata": {
      "needs_background": "light"
     },
     "output_type": "display_data"
    },
    {
     "data": {
      "image/png": "[encoded data removed]",
      "text/plain": [
       "<Figure size 560x240 with 2 Axes>"
      ]
     },
     "metadata": {},
     "output_type": "display_data"
    }
   ],
   "source": [
    "\n",
    "plt.xticks(rotation = 30, ha = 'right')\n",
    "fig, axs = plt.subplots(1,2, dpi= 80, figsize=(7,3), sharey= True, facecolor='pink')\n",
    "\n",
    "axs[0].bar(x,y)\n",
    "axs[0].set_xticklabels(x,rotation = 15, ha = 'right')\n",
    "axs[0].bar_label((axs[0].containers[0]), fontsize = 12,labels=convertirListaIntToListaString(array=y), label_type='edge')\n",
    "axs[0].set_title('Evaluación de utilidades')\n",
    "\n",
    "axs[1].bar(x2,y2)\n",
    "axs[1].set_xticklabels(x2,rotation = 15, ha = 'right')"
   ]
  },
  {
   "cell_type": "code",
   "execution_count": 151,
   "id": "d870d8d8",
   "metadata": {},
   "outputs": [],
   "source": [
    "def convertirListaIntToListaString(array):\n",
    "    listaString = []\n",
    "    for element in array:\n",
    "        aux = str(element) + \"%\"\n",
    "        listaString.append(aux)\n",
    "    return listaString\n"
   ]
  },
  {
   "cell_type": "code",
   "execution_count": 215,
   "id": "1258c5b6",
   "metadata": {},
   "outputs": [],
   "source": [
    "carga = obtenerDatosCarga(toolbox.population(n = 1)[0])"
   ]
  },
  {
   "cell_type": "code",
   "execution_count": 227,
   "id": "00852163",
   "metadata": {},
   "outputs": [],
   "source": [
    "a = list(carga['clave'].values)"
   ]
  },
  {
   "cell_type": "code",
   "execution_count": 234,
   "id": "62e85682",
   "metadata": {},
   "outputs": [],
   "source": [
    "a = list(plan['preespecialidad'].unique())"
   ]
  },
  {
   "cell_type": "code",
   "execution_count": 244,
   "id": "565d6e46",
   "metadata": {},
   "outputs": [
    {
     "data": {
      "text/plain": [
       "'Inteligencia Organizacional y de negocios'"
      ]
     },
     "execution_count": 244,
     "metadata": {},
     "output_type": "execute_result"
    }
   ],
   "source": [
    "str(a[1])"
   ]
  },
  {
   "cell_type": "code",
   "execution_count": 258,
   "id": "0eb11fdc",
   "metadata": {},
   "outputs": [],
   "source": [
    "elib = plan.query('tipo == \"Elección libre\"')"
   ]
  },
  {
   "cell_type": "code",
   "execution_count": 265,
   "id": "53d6b4be",
   "metadata": {},
   "outputs": [],
   "source": [
    "elib = plan.query('tipo == \"Elección libre\" or (tipo == \"Preespecialidad\" and preespecialidad != \"' + a[1] + '\")')"
   ]
  },
  {
   "cell_type": "code",
   "execution_count": 270,
   "id": "82c32c7b",
   "metadata": {},
   "outputs": [
    {
     "data": {
      "text/plain": [
       "{'ID0160',\n",
       " 'ID0161',\n",
       " 'ID0262',\n",
       " 'ID0263',\n",
       " 'ID0264',\n",
       " 'ID0265',\n",
       " 'ID3415',\n",
       " 'ID3416',\n",
       " 'ID3417',\n",
       " 'ID3418',\n",
       " 'ID3419',\n",
       " 'ID3466',\n",
       " 'ID3467',\n",
       " 'ID3468',\n",
       " 'ID3469',\n",
       " 'ID3470',\n",
       " 'ID3471',\n",
       " 'ID3472',\n",
       " 'ID3473',\n",
       " 'ID3474',\n",
       " 'II0422',\n",
       " 'II0423',\n",
       " 'IL0102',\n",
       " 'IL0414',\n",
       " 'IL3422',\n",
       " 'IT0103',\n",
       " 'IT0317',\n",
       " 'IT3472',\n",
       " 'NI0423',\n",
       " 'NI3431'}"
      ]
     },
     "execution_count": 270,
     "metadata": {},
     "output_type": "execute_result"
    }
   ],
   "source": [
    "set(elib['clave'])"
   ]
  },
  {
   "cell_type": "code",
   "execution_count": 281,
   "id": "37645782",
   "metadata": {},
   "outputs": [
    {
     "data": {
      "text/html": [
       "<div>\n",
       "<style scoped>\n",
       "    .dataframe tbody tr th:only-of-type {\n",
       "        vertical-align: middle;\n",
       "    }\n",
       "\n",
       "    .dataframe tbody tr th {\n",
       "        vertical-align: top;\n",
       "    }\n",
       "\n",
       "    .dataframe thead th {\n",
       "        text-align: right;\n",
       "    }\n",
       "</style>\n",
       "<table border=\"1\" class=\"dataframe\">\n",
       "  <thead>\n",
       "    <tr style=\"text-align: right;\">\n",
       "      <th></th>\n",
       "      <th>clave</th>\n",
       "      <th>ciclos</th>\n",
       "      <th>Nombre</th>\n",
       "      <th>Maestro</th>\n",
       "      <th>Lunes</th>\n",
       "      <th>Martes</th>\n",
       "      <th>Miercoles</th>\n",
       "      <th>Jueves</th>\n",
       "      <th>Viernes</th>\n",
       "      <th>tipo</th>\n",
       "    </tr>\n",
       "  </thead>\n",
       "  <tbody>\n",
       "    <tr>\n",
       "      <th>4</th>\n",
       "      <td>ID0205</td>\n",
       "      <td>2</td>\n",
       "      <td>Geometría computacional</td>\n",
       "      <td>Naredo García / Enrique</td>\n",
       "      <td>-</td>\n",
       "      <td>-</td>\n",
       "      <td>-</td>\n",
       "      <td>09:00-11:00</td>\n",
       "      <td>10:00-11:00</td>\n",
       "      <td>Basica</td>\n",
       "    </tr>\n",
       "  </tbody>\n",
       "</table>\n",
       "</div>"
      ],
      "text/plain": [
       "    clave  ciclos                   Nombre                  Maestro Lunes  \\\n",
       "4  ID0205       2  Geometría computacional  Naredo García / Enrique     -   \n",
       "\n",
       "  Martes Miercoles       Jueves      Viernes    tipo  \n",
       "4      -         -  09:00-11:00  10:00-11:00  Basica  "
      ]
     },
     "execution_count": 281,
     "metadata": {},
     "output_type": "execute_result"
    }
   ],
   "source": [
    "obtenerDatosCarga([4])"
   ]
  },
  {
   "cell_type": "code",
   "execution_count": null,
   "id": "a7e697cb",
   "metadata": {},
   "outputs": [],
   "source": []
  }
 ],
 "metadata": {
  "kernelspec": {
   "display_name": "Python 3 (ipykernel)",
   "language": "python",
   "name": "python3"
  },
  "language_info": {
   "codemirror_mode": {
    "name": "ipython",
    "version": 3
   },
   "file_extension": ".py",
   "mimetype": "text/x-python",
   "name": "python",
   "nbconvert_exporter": "python",
   "pygments_lexer": "ipython3",
   "version": "3.9.12"
  }
 },
 "nbformat": 4,
 "nbformat_minor": 5
}
